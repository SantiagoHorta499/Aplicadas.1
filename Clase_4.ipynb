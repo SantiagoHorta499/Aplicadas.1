{
  "nbformat": 4,
  "nbformat_minor": 0,
  "metadata": {
    "colab": {
      "provenance": [],
      "authorship_tag": "ABX9TyN1g662H8tgTT9QuOzAAW8D",
      "include_colab_link": true
    },
    "kernelspec": {
      "name": "python3",
      "display_name": "Python 3"
    },
    "language_info": {
      "name": "python"
    }
  },
  "cells": [
    {
      "cell_type": "markdown",
      "metadata": {
        "id": "view-in-github",
        "colab_type": "text"
      },
      "source": [
        "<a href=\"https://colab.research.google.com/github/SantiagoHorta499/Aplicadas.1/blob/main/Clase_4.ipynb\" target=\"_parent\"><img src=\"https://colab.research.google.com/assets/colab-badge.svg\" alt=\"Open In Colab\"/></a>"
      ]
    },
    {
      "cell_type": "code",
      "execution_count": null,
      "metadata": {
        "id": "svEBJnXqAftG"
      },
      "outputs": [],
      "source": [
        "import numpy as np"
      ]
    },
    {
      "cell_type": "code",
      "source": [
        "import matplotlib.pyplot as plt"
      ],
      "metadata": {
        "id": "SPIv8Ap1BRaA"
      },
      "execution_count": null,
      "outputs": []
    },
    {
      "cell_type": "code",
      "source": [
        "def fibonacci(n):\n",
        "    fib_series = [0, 1]\n",
        "    for _ in range(n - 2):\n",
        "        fib_series.append(fib_series[-1] + fib_series[-2])\n",
        "    return fib_series[:n]\n",
        "\n",
        "def plot_fibonacci(n):\n",
        "    fib_series = fibonacci(n)\n",
        "    plt.plot(range(1, n + 1), fib_series, marker='o', linestyle='-', color='g', label='Fibonacci')\n",
        "    plt.xlabel(\"Índice\")\n",
        "    plt.ylabel(\"Valor\")\n",
        "    plt.title(f\"Primeros {n} números de Fibonacci\")\n",
        "    plt.grid()\n",
        "    plt.show()\n",
        "try:\n",
        "    n = int(input(\"Ingrese un número positivo diferente 0: \"))\n",
        "    if n > 0:\n",
        "        plot_fibonacci(n)\n",
        "    else:\n",
        "        print(\"Debe ser un número entero positivo.\")\n",
        "except ValueError:\n",
        "    print(\"Ingrese un número positivo diferente a 0.\")\n"
      ],
      "metadata": {
        "id": "nQbvoDDoaLI2"
      },
      "execution_count": null,
      "outputs": []
    }
  ]
}