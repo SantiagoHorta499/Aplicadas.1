{
  "nbformat": 4,
  "nbformat_minor": 0,
  "metadata": {
    "colab": {
      "provenance": [],
      "authorship_tag": "ABX9TyMsFuk+Pw7lPx6+amVz+bR+",
      "include_colab_link": true
    },
    "kernelspec": {
      "name": "python3",
      "display_name": "Python 3"
    },
    "language_info": {
      "name": "python"
    }
  },
  "cells": [
    {
      "cell_type": "markdown",
      "metadata": {
        "id": "view-in-github",
        "colab_type": "text"
      },
      "source": [
        "<a href=\"https://colab.research.google.com/github/SantiagoHorta499/Aplicadas.1/blob/main/taller.ipynb\" target=\"_parent\"><img src=\"https://colab.research.google.com/assets/colab-badge.svg\" alt=\"Open In Colab\"/></a>"
      ]
    },
    {
      "cell_type": "code",
      "execution_count": null,
      "metadata": {
        "id": "4BiIZelOC5bk"
      },
      "outputs": [],
      "source": [
        "import numpy as np\n"
      ]
    },
    {
      "cell_type": "code",
      "source": [
        "def onlyprimos():\n",
        "    while True:\n",
        "        print(\"\\nIngrese su lista de números para dejar solo los primos (separados por comas)\")\n",
        "        opcion = input(\"Lista: \")\n",
        "\n",
        "        numeros = list(map(int, opcion.split(\",\")))\n",
        "        primos = []\n",
        "\n",
        "        for n in numeros:\n",
        "          if n < 2:\n",
        "              continue\n",
        "\n",
        "\n",
        "          es_primo = True\n",
        "          for i in range(2,n):\n",
        "              if n % i == 0:\n",
        "                  es_primo = False\n",
        "                  break\n",
        "\n",
        "          if es_primo:\n",
        "              primos.append(n)\n",
        "\n",
        "        print(f\"Los números primos son:\", primos)\n",
        "        break\n",
        "\n",
        "\n",
        "onlyprimos()"
      ],
      "metadata": {
        "colab": {
          "base_uri": "https://localhost:8080/"
        },
        "id": "tuMxB3G2DX8e",
        "outputId": "67be61eb-f863-43d9-fe2c-4582676e429f"
      },
      "execution_count": null,
      "outputs": [
        {
          "output_type": "stream",
          "name": "stdout",
          "text": [
            "\n",
            "Ingrese su lista de números para dejar solo los primos (separados por comas)\n",
            "Lista: 3,4,5\n",
            "Los números primos son: [3, 5]\n"
          ]
        }
      ]
    }
  ]
}