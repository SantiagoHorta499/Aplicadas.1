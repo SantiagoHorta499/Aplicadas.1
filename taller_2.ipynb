{
  "nbformat": 4,
  "nbformat_minor": 0,
  "metadata": {
    "colab": {
      "provenance": [],
      "authorship_tag": "ABX9TyMDILCOm+wzULopU0SE3wL5",
      "include_colab_link": true
    },
    "kernelspec": {
      "name": "python3",
      "display_name": "Python 3"
    },
    "language_info": {
      "name": "python"
    }
  },
  "cells": [
    {
      "cell_type": "markdown",
      "metadata": {
        "id": "view-in-github",
        "colab_type": "text"
      },
      "source": [
        "<a href=\"https://colab.research.google.com/github/SantiagoHorta499/Aplicadas.1/blob/main/taller_2.ipynb\" target=\"_parent\"><img src=\"https://colab.research.google.com/assets/colab-badge.svg\" alt=\"Open In Colab\"/></a>"
      ]
    },
    {
      "cell_type": "code",
      "execution_count": 4,
      "metadata": {
        "id": "cY3HgSPQAtRM"
      },
      "outputs": [],
      "source": [
        "import numpy as np\n"
      ]
    },
    {
      "cell_type": "code",
      "source": [
        "import numpy as np\n",
        "\n",
        "def calculadora():\n",
        "    while True:\n",
        "        print(\"\\n Operaciones:\")\n",
        "        print(\"1. Suma (+)\")\n",
        "        print(\"2. Resta (-)\")\n",
        "        print(\"3. Multiplicación (*)\")\n",
        "        print(\"4. División (/)\")\n",
        "        print(\"5. Raíz cuadrada (√)\")\n",
        "        print(\"6. Seno (sin)\")\n",
        "        print(\"7. Exponencial (^)\")\n",
        "        print(\"8. Salir\")\n",
        "\n",
        "        opcion = input(\"Seleccione una opción: \")\n",
        "\n",
        "        if opcion == '8':\n",
        "            print(\"Salió de la calculadora\")\n",
        "            break\n",
        "\n",
        "        if opcion in ['1', '2', '3', '4']:\n",
        "            num1 = float(input(\"Ingrese el primer número: \"))\n",
        "            num2 = float(input(\"Ingrese el segundo número: \"))\n",
        "\n",
        "            if opcion == '1':\n",
        "                resultado = np.add(num1, num2)\n",
        "            elif opcion == '2':\n",
        "                resultado = np.subtract(num1, num2)\n",
        "            elif opcion == '3':\n",
        "                resultado = np.multiply(num1, num2)\n",
        "            elif opcion == '4':\n",
        "                if num2 == 0:\n",
        "                    print(\"⚠ Error: Math error\")\n",
        "                    continue\n",
        "                resultado = np.divide(num1, num2)\n",
        "\n",
        "        elif opcion == '5':\n",
        "            num = float(input(\"Ingrese el número: \"))\n",
        "            if num < 0:\n",
        "                print(\"⚠ Error: No se puede calcular la raíz cuadrada de un número negativo.\")\n",
        "                continue\n",
        "            resultado = np.sqrt(num)\n",
        "\n",
        "        elif opcion == '6':\n",
        "            num = float(input(\"Ingrese el ángulo en grados: \"))\n",
        "            resultado = np.sin(np.radians(num))\n",
        "        elif opcion == '7':\n",
        "            num = float(input(\"Ingrese el número: \"))\n",
        "            resultado = np.exp(num)\n",
        "\n",
        "        else:\n",
        "            print(\"⚠ Opción no válida.\")\n",
        "            continue\n",
        "\n",
        "        print(f\" Resultado: {resultado}\")\n",
        "\n",
        "calculadora()"
      ],
      "metadata": {
        "id": "iNTcXtlrCxvh",
        "outputId": "c2759ae0-976d-4a04-9b1d-4030ad2b8bd6",
        "colab": {
          "base_uri": "https://localhost:8080/"
        }
      },
      "execution_count": 14,
      "outputs": [
        {
          "output_type": "stream",
          "name": "stdout",
          "text": [
            "\n",
            " Operaciones:\n",
            "1. Suma (+)\n",
            "2. Resta (-)\n",
            "3. Multiplicación (*)\n",
            "4. División (/)\n",
            "5. Raíz cuadrada (√)\n",
            "6. Seno (sin)\n",
            "7. Exponencial (^)\n",
            "8. Salir\n",
            "Seleccione una opción: 7\n",
            "Ingrese el número: 2\n",
            " Resultado: 7.38905609893065\n",
            "\n",
            " Operaciones:\n",
            "1. Suma (+)\n",
            "2. Resta (-)\n",
            "3. Multiplicación (*)\n",
            "4. División (/)\n",
            "5. Raíz cuadrada (√)\n",
            "6. Seno (sin)\n",
            "7. Exponencial (^)\n",
            "8. Salir\n",
            "Seleccione una opción: 8\n",
            "Salió de la calculadora\n"
          ]
        }
      ]
    }
  ]
}